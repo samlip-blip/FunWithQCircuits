{
 "cells": [
  {
   "cell_type": "markdown",
   "metadata": {},
   "source": [
    "# Fun with elementary gates for quantum computation"
   ]
  },
  {
   "cell_type": "markdown",
   "metadata": {},
   "source": [
    "In reference [1] it was shown that a set of gates that consists of all one-bit quantum gates and the two-bit exclusive-or gate is universal in the sense that all unitary operations on arbitrary many bits can be expressed as compositions of these gates.  \n",
    "In this notebook we are interested in constructing a gate V such that $V^{2}$=X (NOT) gate. Thanks to Lemma 4.3 from the reference [1] V gate can be easily expressed in terms of elementary gates. A cool thing about this is, if we have V gate, we can follow Lemma 6.1 from the same reference and construct a Toffoli gate.  \n",
    "We will now show how to bring these interesting efforts to fruition.\n",
    "\n",
    "[1] https://arxiv.org/abs/quant-ph/9503016"
   ]
  },
  {
   "cell_type": "markdown",
   "metadata": {},
   "source": [
    "## Import needed libraries"
   ]
  },
  {
   "cell_type": "code",
   "execution_count": 1,
   "metadata": {
    "papermill": {
     "duration": 7.029774,
     "end_time": "2020-01-04T03:14:13.069410",
     "exception": false,
     "start_time": "2020-01-04T03:14:06.039636",
     "status": "completed"
    },
    "tags": []
   },
   "outputs": [],
   "source": [
    "%matplotlib inline\n",
    "from qiskit import QuantumRegister, ClassicalRegister\n",
    "# Importing standard Qiskit libraries and configuring account\n",
    "from qiskit import QuantumCircuit, execute, Aer, IBMQ\n",
    "from qiskit.compiler import transpile, assemble\n",
    "from qiskit.tools.jupyter import *\n",
    "from qiskit.visualization import *\n",
    "# Loading your IBM Q account(s)\n",
    "provider = IBMQ.load_account()"
   ]
  },
  {
   "cell_type": "markdown",
   "metadata": {},
   "source": [
    "Here we define a function that returns counts for ploting histogram of the measurement results. The input for the function is the backend type, for example 'qasm_simulator'."
   ]
  },
  {
   "cell_type": "code",
   "execution_count": 8,
   "metadata": {},
   "outputs": [],
   "source": [
    "from qiskit.tools.visualization import plot_histogram\n",
    "\n",
    "def get_counts(back_end):\n",
    "    ## First, simulate the circuit\n",
    "    simulator = Aer.get_backend(back_end)\n",
    "    job = execute(circuit, backend=simulator, shots=1000000)\n",
    "    result = job.result()\n",
    "    \n",
    "    ## Then, plot a histogram of the results\n",
    "    counts = result.get_counts(circuit)\n",
    "    return counts"
   ]
  },
  {
   "cell_type": "markdown",
   "metadata": {},
   "source": [
    "## $V^{2}$ = X (NOT gate)"
   ]
  },
  {
   "cell_type": "markdown",
   "metadata": {
    "slideshow": {
     "slide_type": "slide"
    }
   },
   "source": [
    "Our constraint is that $V^{2}$ = X (NOT gate).  \n",
    "According to Lemma 4.1 from [1] every unitary 2 x 2 matrix can be expressed as\n",
    "\n",
    "$$\n",
    "\\begin{pmatrix}\n",
    "e^{i\\delta} & 0\\\\\n",
    "0 & e^{i\\delta}\n",
    "\\end{pmatrix}.\n",
    "\\begin{pmatrix}\n",
    "e^{i\\alpha/2} & 0\\\\\n",
    "0 & e^{-i\\alpha/2}\n",
    "\\end{pmatrix}.\n",
    "\\begin{pmatrix}\n",
    "cos(\\theta/2) & sin(\\theta/2)\\\\\n",
    "-sin(\\theta/2) & cos(\\theta/2)\n",
    "\\end{pmatrix}.\n",
    "\\begin{pmatrix}\n",
    "e^{i\\beta/2} & 0\\\\\n",
    "0 & e^{-i\\beta/2}\n",
    "\\end{pmatrix}\n",
    "$$  \n",
    "Since $$X = \\begin{pmatrix} 0 & 1\\\\ 1 & 0 \\end{pmatrix}$$ is an unitary matrix and we demand that $V^{2}$ = X, it is easy to see that $\\alpha = -\\beta = -\\pi/2$, $\\delta=\\pi/4$, and $\\theta=\\pi/2$. This means that $$V =\n",
    "\\begin{pmatrix}\n",
    "e^{i\\pi/4} & 0\\\\\n",
    "0 & e^{i\\pi/4}\n",
    "\\end{pmatrix}.\n",
    "\\begin{pmatrix}\n",
    "e^{-i\\pi/4} & 0\\\\\n",
    "0 & e^{i\\pi/4}\n",
    "\\end{pmatrix}.\n",
    "\\begin{pmatrix}\n",
    "cos(\\pi/4) & sin(\\pi/4)\\\\\n",
    "-sin(\\pi/4) & cos(\\pi/4)\n",
    "\\end{pmatrix}.\n",
    "\\begin{pmatrix}\n",
    "e^{i\\pi/4} & 0\\\\\n",
    "0 & e^{-i\\pi/4}\n",
    "\\end{pmatrix} = 1/{\\sqrt{2}}\n",
    "\\begin{pmatrix}\n",
    "e^{i\\pi/4} & e^{-i\\pi/4}\\\\\n",
    "e^{-i\\pi/4} & e^{i\\pi/4}\n",
    "\\end{pmatrix}\n",
    "$$  \n",
    "\n",
    "If we use the following notation\n",
    "$$R_y(\\theta) = \\begin{pmatrix}cos(\\theta/2) & sin(\\theta/2)\\\\-sin(\\theta/2) & cos(\\theta/2)\\end{pmatrix}$$\n",
    "which is a rotation by ${\\theta}$ around y axis,  \n",
    "$$R_z(\\alpha) = \\begin{pmatrix}e^{i\\alpha/2} & 0\\\\0 & e^{-i\\alpha/2}\\end{pmatrix},$$ a rotation by ${\\alpha}$ around z axis, and \n",
    "$$Ph(\\delta) = \\begin{pmatrix}e^{i\\delta} & 0\\\\0 & e^{i\\delta}\\end{pmatrix},$$ a phase shift with respect to ${\\delta}$, we can express V as $$V = Ph(\\pi/4)R_z(-\\pi/2)R_y(\\pi/2)R_z(\\pi/2).$$  \n",
    "According to Lemma 4.3 from [1] for any special unitary matrix W (i.e., with unity determinant and W is member of SU(2)), there exists matrices A, B, and C in SU(2) such that $$ABC = I$$ and $$AXBXC = W.$$\n",
    "In our case $$W = R_z(-\\pi/2)R_y(\\pi/2)R_z(\\pi/2)$$\n",
    "and $$A = R_z(-\\pi/2)R_y(\\pi/4)$$\n",
    "$$B = R_y(-\\pi/4)R_z(0)=R_y(-\\pi/4)$$\n",
    "and $$C = R_z(\\pi/2).$$\n",
    "Knowing these 3 matrices is very important since we can use them to make a __control V__ gate according to Lemma 5.1 from the same [1] reference. We will now show how to do that."
   ]
  },
  {
   "cell_type": "markdown",
   "metadata": {},
   "source": [
    "## Control V gate"
   ]
  },
  {
   "cell_type": "markdown",
   "metadata": {},
   "source": [
    "Our V gate contains a phase gate so we need first to show how to implement the phase gate. It is easy to check that the following matrix product results in the phase gate.\n",
    "\n",
    "$$\n",
    "\\begin{pmatrix}\n",
    "1 & 0\\\\\n",
    "0 & e^{i\\delta}\n",
    "\\end{pmatrix}.\n",
    "\\begin{pmatrix}\n",
    "0 & 1\\\\\n",
    "1 & 0\n",
    "\\end{pmatrix}.\n",
    "\\begin{pmatrix}\n",
    "1 & 0\\\\\n",
    "0 & e^{i\\delta}\n",
    "\\end{pmatrix}.\n",
    "\\begin{pmatrix}\n",
    "0 & 1\\\\\n",
    "1 & 0\n",
    "\\end{pmatrix} = \n",
    "\\begin{pmatrix}\n",
    "0 & 1\\\\\n",
    "e^{i\\delta} & 0\n",
    "\\end{pmatrix}.\n",
    "\\begin{pmatrix}\n",
    "0 & 1\\\\\n",
    "e^{i\\delta} & 0\n",
    "\\end{pmatrix} = \n",
    "\\begin{pmatrix}\n",
    "e^{i\\delta} & 0\\\\\n",
    "0 & e^{i\\delta}\n",
    "\\end{pmatrix}\n",
    "$$\n",
    "\n",
    "This means that the phase gate can be implemented as \n",
    "$$Ph(\\delta) = U_1(\\delta)XU_1(\\delta)X.$$ where \n",
    "$$U_1(\\delta) = \\begin{pmatrix}\n",
    "1 & 0\\\\\n",
    "0 & e^{i\\delta}\n",
    "\\end{pmatrix}.$$\n",
    "\n",
    "The phase gate can be coded as the following python function that takes 3 parameters: a quantum circuit, an angle and a qubit."
   ]
  },
  {
   "cell_type": "code",
   "execution_count": null,
   "metadata": {},
   "outputs": [],
   "source": [
    "#define phase gate \n",
    "def Ph(circuit, theta, qubit):\n",
    "    circuit.x(qubit)\n",
    "    circuit.u1(theta, qubit)\n",
    "    circuit.x(qubit)\n",
    "    circuit.u1(theta, qubit)"
   ]
  },
  {
   "cell_type": "markdown",
   "metadata": {},
   "source": [
    "We can also implement it as an instruction as in the code snippet below."
   ]
  },
  {
   "cell_type": "code",
   "execution_count": null,
   "metadata": {},
   "outputs": [],
   "source": [
    "#define phase gate as an instruction\n",
    "#delta  is a global variable defined outside the gate\n",
    "qc_ph = QuantumCircuit(1, name='Ph')\n",
    "qc_ph.x(0)\n",
    "qc_ph.u1(delta, 0)\n",
    "qc_ph.x(0)\n",
    "qc_ph.u1(delta, 0)\n",
    "Ph = qc_ph.to_instruction()"
   ]
  },
  {
   "cell_type": "markdown",
   "metadata": {},
   "source": [
    "Essentially control V gate is implemented as the following circuit."
   ]
  },
  {
   "cell_type": "code",
   "execution_count": 9,
   "metadata": {
    "scrolled": true
   },
   "outputs": [
    {
     "data": {
      "image/png": "[encoded data removed]",
      "text/plain": [
       "<Figure size 659.792x264.88 with 1 Axes>"
      ]
     },
     "execution_count": 9,
     "metadata": {},
     "output_type": "execute_result"
    }
   ],
   "source": [
    "#define some constants\n",
    "pi = 3.14159\n",
    "delta = pi/4\n",
    "\n",
    "#define A gate as an instruction\n",
    "qc_A = QuantumCircuit(1, name='A')\n",
    "qc_A.ry(pi/4, 0)\n",
    "qc_A.rz(-pi/2, 0)\n",
    "A = qc_A.to_instruction()\n",
    "\n",
    "#define B gate as an instruction\n",
    "qc_B = QuantumCircuit(1, name='B')\n",
    "qc_B.ry(-pi/4, 0)\n",
    "B = qc_B.to_instruction()\n",
    "\n",
    "#define C gate as an instruction\n",
    "qc_C = QuantumCircuit(1, name='C')\n",
    "qc_C.rz(pi/2, 0)\n",
    "C = qc_C.to_instruction()\n",
    "\n",
    "#define phase gate as an instruction\n",
    "qc_ph = QuantumCircuit(1, name='Ph')\n",
    "qc_ph.x(0)\n",
    "qc_ph.u1(delta, 0)\n",
    "qc_ph.x(0)\n",
    "qc_ph.u1(delta, 0)\n",
    "Ph = qc_ph.to_instruction()\n",
    "\n",
    "#now assemble respective quantum circuit\n",
    "## Define a 2-qubit quantum circuit\n",
    "q = QuantumRegister(2, 'q')\n",
    "circuit = QuantumCircuit(q)\n",
    "## We need also 4 classical registers\n",
    "c = [ ClassicalRegister(1) for _ in range(2) ]\n",
    "circuit = QuantumCircuit(q)\n",
    "for register in c:\n",
    "    circuit.add_register(register)\n",
    "\n",
    "#initial state of an equal superposition of |0> and |1> states \n",
    "#so that we have all possible inputs of 2 qubits\n",
    "circuit.h(q[0])\n",
    "circuit.h(q[1])\n",
    "\n",
    "circuit.append(C,[1])    # C gate acting on q[1]\n",
    "circuit.cnot(q[0], q[1]) # CNOT between q[0] and q[1]\n",
    "circuit.append(B, [1])   # B gate acting on q[1]\n",
    "circuit.cnot(q[0], q[1]) # CNOT between q[0] and q[1]\n",
    "circuit.append(A, [1])   # A gate acting on q[1]\n",
    "circuit.append(Ph, [0])  # phase gate acting on q[0] (it really does not matter which qubit we pick)\n",
    "\n",
    "#finish with measurements\n",
    "circuit.measure(q[0], c[0])\n",
    "circuit.measure(q[1], c[1])\n",
    "\n",
    "## Draw the circuit\n",
    "%matplotlib inline\n",
    "circuit.draw(output=\"mpl\")"
   ]
  },
  {
   "cell_type": "markdown",
   "metadata": {},
   "source": [
    "There are 4 possible, equally probable, outputs: 00, 01, 10, or 11 with 1/4 probability."
   ]
  },
  {
   "cell_type": "code",
   "execution_count": 10,
   "metadata": {
    "scrolled": true
   },
   "outputs": [
    {
     "data": {
      "image/png": "[encoded data removed]",
      "text/plain": [
       "<Figure size 504x360 with 1 Axes>"
      ]
     },
     "execution_count": 10,
     "metadata": {},
     "output_type": "execute_result"
    }
   ],
   "source": [
    "plot_histogram(get_counts('qasm_simulator'))"
   ]
  },
  {
   "cell_type": "markdown",
   "metadata": {},
   "source": [
    "## Math part"
   ]
  },
  {
   "cell_type": "markdown",
   "metadata": {},
   "source": [
    "To understand why we are getting these outputs we need to work out respective math.   \n",
    "Our input state to the control V gate is a state of an equal superposition of 2 qubits.   \n",
    "We start with 2 qubits in 0 state and apply Hadammard gate to each qubit resulting in \n",
    "\n",
    "$$\\Psi_i=H|0>H|0>=1/\\sqrt{2}(|0>+|1>)1/\\sqrt{2}(|0>+|1>)=1/2(|00>+|01>+|10>+|11>).$$  \n",
    "\n",
    "It is not difficult to see that the following are matrix representations of A, B, and C gates.\n",
    "\n",
    "$$A = \\begin{pmatrix} e^{-i\\pi/4}cos(\\pi/8) & e^{-i\\pi/4}sin(\\pi/8)\\\\ -e^{i\\pi/4}sin(\\pi/8) & e^{i\\pi/4}cos(\\pi/8) \\end{pmatrix}$$\n",
    "\n",
    "$$B = \\begin{pmatrix} cos(\\pi/8) & -sin(\\pi/8)\\\\ sin(\\pi/8) & cos(\\pi/8) \\end{pmatrix}$$\n",
    "\n",
    "$$C = \\begin{pmatrix} e^{i\\pi/4} & 0\\\\ 0 & e^{-i\\pi/4} \\end{pmatrix}$$\n",
    "\n",
    "Having this information we can easily deduce how these gates act on |0> and |1> qubit states.\n",
    "\n",
    "$$A|0> = e^{-i\\pi/4}cos(\\pi/8)|0>-e^{i\\pi/4}sin(\\pi/8)|1>$$\n",
    "$$A|1> = e^{-i\\pi/4}sin(\\pi/8)|0>+e^{i\\pi/4}cos(\\pi/8)|1>$$\n",
    "$$B|0> = cos(\\pi/8)|0>+sin(\\pi/8)|1>$$\n",
    "$$B|1> = -sin(\\pi/8)|0>+cos(\\pi/8)|1>$$\n",
    "$$C|0>=e^{i\\pi/4}|0>$$\n",
    "$$C|1>=e^{-i\\pi/4}|1>.$$\n",
    "Now, we can analyze the circuit. After the C gate, the state of 2 qubits is \n",
    "\n",
    "$$\\Psi_c=1/2(e^{i\\pi/4}|00> + e^{-i\\pi/4}|01>+e^{i\\pi/4}|10>+e^{-i\\pi/4}|11>).$$\n",
    "\n",
    "Then comes the first CNOT gate which flips the second qubit state only if the first qubit is in |1> state resulting in \n",
    "\n",
    "$$\\Psi_{x1}=1/2(e^{i\\pi/4}|00> + e^{-i\\pi/4}|01>+e^{i\\pi/4}|11>+e^{-i\\pi/4}|10>).$$\n",
    "\n",
    "After the B gate, the state is \n",
    "\n",
    "$$\\Psi_b=1/2[e^{i\\pi/4}|0>(cos(\\pi/8)|0>+sin(\\pi/8)|1>)+\\\\\n",
    "             e^{-i\\pi/4}|0>(-sin(\\pi/8)|0>+cos(\\pi/8)|1>)+\\\\  \n",
    "             e^{i\\pi/4}|1>(-sin(\\pi/8)|0>+cos(\\pi/8)|1>)+\\\\\n",
    "             e^{-i\\pi/4}|1>(cos(\\pi/8)|0>+sin(\\pi/8)|1>)]$$\n",
    "            \n",
    "which simplifies to\n",
    "\n",
    "$$\\Psi_b=1/2[|00>(e^{i\\pi/4}cos(\\pi/8)-e^{-i\\pi/4}sin(\\pi/8))+\\\\ \n",
    " |01>(e^{i\\pi/4}sin(\\pi/8)+e^{-i\\pi/4}cos(\\pi/8))+\\\\\n",
    " |10>(-e^{i\\pi/4}sin(\\pi/8)+e^{-i\\pi/4}cos(\\pi/8))+\\\\\n",
    " |11>(e^{i\\pi/4}cos(\\pi/8)+e^{-i\\pi/4}sin(\\pi/8))].\n",
    " $$"
   ]
  },
  {
   "cell_type": "markdown",
   "metadata": {},
   "source": [
    "After the second CNOT gate, the 2 qubits state is \n",
    "\n",
    "$$\\Psi_{x2}=1/2[|00>(e^{i\\pi/4}cos(\\pi/8)-e^{-i\\pi/4}sin(\\pi/8))+\\\\ \n",
    " |01>(e^{i\\pi/4}sin(\\pi/8)+e^{-i\\pi/4}cos(\\pi/8))+\\\\\n",
    " |11>(-e^{i\\pi/4}sin(\\pi/8)+e^{-i\\pi/4}cos(\\pi/8))+\\\\\n",
    " |10>(e^{i\\pi/4}cos(\\pi/8)+e^{-i\\pi/4}sin(\\pi/8))].\n",
    " $$\n",
    " \n",
    " Finally comes the A gate resulting in \n",
    " \n",
    " $$\\Psi_a=1/2[|0>(e^{i\\pi/4}cos(\\pi/8)-e^{-i\\pi/4}sin(\\pi/8))(e^{-i\\pi/4}cos(\\pi/8)|0>-e^{i\\pi/4}sin(\\pi/8)|1>)+\\\\ \n",
    " |0>(e^{i\\pi/4}sin(\\pi/8)+e^{-i\\pi/4}cos(\\pi/8))(e^{-i\\pi/4}sin(\\pi/8)|0>+e^{i\\pi/4}cos(\\pi/8)|1>)+\\\\\n",
    " |1>(-e^{i\\pi/4}sin(\\pi/8)+e^{-i\\pi/4}cos(\\pi/8))(e^{-i\\pi/4}sin(\\pi/8)|0>+e^{i\\pi/4}cos(\\pi/8)|1>)+\\\\\n",
    " |1>(e^{i\\pi/4}cos(\\pi/8)+e^{-i\\pi/4}sin(\\pi/8))(e^{-i\\pi/4}cos(\\pi/8)|0>-e^{i\\pi/4}sin(\\pi/8)|1>)]\n",
    " $$\n",
    " \n",
    " which simplifies to \n",
    " \n",
    " $$\\Psi_a=1/2[|00>+|01>+|10>(cos(\\pi/4)+e^{-i\\pi/2}sin(\\pi/4))+|11>(cos(\\pi/4)-e^{i\\pi/2}sin(\\pi/4))].$$\n",
    " \n",
    " We finish with the Phase gate which just adds a phase factor to $\\Psi_a$ resulting in\n",
    " \n",
    " $$\\Psi_{out}=e^{i\\pi/4}/2[|00>+|01>+|10>(1-i)/{\\sqrt{2}}+|11>(1-i)/{\\sqrt{2}}].$$\n",
    " \n",
    " __As we can see our math confirms 4 possible, equally probable, outputs: 00, 01, 10, or 11 with 1/4 probability.__"
   ]
  },
  {
   "cell_type": "markdown",
   "metadata": {},
   "source": [
    "## 2 times in a row __control__ V gate = CNOT"
   ]
  },
  {
   "cell_type": "markdown",
   "metadata": {},
   "source": [
    "Now if we apply 2 times in a row __control__ V gate we should effectively have a __control__ X gate which is CNOT gate. The circuit below shows exactly that."
   ]
  },
  {
   "cell_type": "code",
   "execution_count": 11,
   "metadata": {},
   "outputs": [
    {
     "data": {
      "image/png": "[encoded data removed]",
      "text/plain": [
       "<Figure size 1081.19x385.28 with 1 Axes>"
      ]
     },
     "execution_count": 11,
     "metadata": {},
     "output_type": "execute_result"
    }
   ],
   "source": [
    "## Define a 2-qubit quantum circuit\n",
    "q = QuantumRegister(2, 'q')\n",
    "circuit = QuantumCircuit(q)\n",
    "## We need also 4 classical registers\n",
    "c = [ ClassicalRegister(1) for _ in range(4) ]\n",
    "circuit = QuantumCircuit(q)\n",
    "for register in c:\n",
    "    circuit.add_register(register)\n",
    "\n",
    "#initial state of an equal superposition of |0> and |1> states \n",
    "#so that we have all possible inputs of 2 qubits\n",
    "circuit.h(q[0])\n",
    "circuit.h(q[1])\n",
    "\n",
    "circuit.measure(q[0], c[0])\n",
    "circuit.measure(q[1], c[1])\n",
    "\n",
    "circuit.append(C,[1])    # C gate acting on q[1]\n",
    "circuit.cnot(q[0], q[1]) # CNOT between q[0] and q[1]\n",
    "circuit.append(B, [1])   # B gate acting on q[1]\n",
    "circuit.cnot(q[0], q[1]) # CNOT between q[0] and q[1]\n",
    "circuit.append(A, [1])   # A gate acting on q[1]\n",
    "circuit.append(Ph, [0])  # phase gate acting on q[0] (it really does not matter which qubit we pick)\n",
    "\n",
    "circuit.append(C,[1])    # C gate acting on q[1]\n",
    "circuit.cnot(q[0], q[1]) # CNOT between q[0] and q[1]\n",
    "circuit.append(B, [1])   # B gate acting on q[1]\n",
    "circuit.cnot(q[0], q[1]) # CNOT between q[0] and q[1]\n",
    "circuit.append(A, [1])   # A gate acting on q[1]\n",
    "circuit.append(Ph, [0])  # phase gate acting on q[0] (it really does not matter which qubit we pick)\n",
    "\n",
    "#finish with measurements\n",
    "circuit.measure(q[0], c[2])\n",
    "circuit.measure(q[1], c[3])\n",
    "\n",
    "## Draw the circuit\n",
    "%matplotlib inline\n",
    "circuit.draw(output=\"mpl\")"
   ]
  },
  {
   "cell_type": "code",
   "execution_count": 12,
   "metadata": {
    "scrolled": true
   },
   "outputs": [
    {
     "data": {
      "image/png": "[encoded data removed]",
      "text/plain": [
       "<Figure size 504x360 with 1 Axes>"
      ]
     },
     "execution_count": 12,
     "metadata": {},
     "output_type": "execute_result"
    }
   ],
   "source": [
    "plot_histogram(get_counts('qasm_simulator'))"
   ]
  },
  {
   "cell_type": "markdown",
   "metadata": {},
   "source": [
    "## 2 times in a row V gate = X"
   ]
  },
  {
   "cell_type": "markdown",
   "metadata": {},
   "source": [
    "Using the expression for V gate \n",
    "\n",
    "$$V = Ph(\\pi/4)R_z(-\\pi/2)R_y(\\pi/2)R_z(\\pi/2)$$ \n",
    "\n",
    "we can now show when we apply twice in a row V gate we effectively get X gate.\n",
    "For that purpose we define R gate as \n",
    "\n",
    "$$R=R_z(-\\pi/2)R_y(\\pi/2)R_z(\\pi/2)$$ \n",
    "\n",
    "so essentially V gate in the circuit will be recognized as \n",
    "\n",
    "$$Ph(\\pi/4)R.$$"
   ]
  },
  {
   "cell_type": "code",
   "execution_count": 13,
   "metadata": {},
   "outputs": [
    {
     "data": {
      "image/png": "[encoded data removed]",
      "text/plain": [
       "<Figure size 556.248x204.68 with 1 Axes>"
      ]
     },
     "execution_count": 13,
     "metadata": {},
     "output_type": "execute_result"
    }
   ],
   "source": [
    "#define R gate as an instruction that contains only rotations\n",
    "qc_R = QuantumCircuit(1, name='R')\n",
    "qc_R.rz(pi/2, 0)\n",
    "qc_R.ry(pi/2, 0)\n",
    "qc_R.rz(-pi/2, 0)\n",
    "R = qc_R.to_instruction()\n",
    "\n",
    "#now assemble respective quantum circuit\n",
    "## Define a 1-qubit quantum circuit\n",
    "q = QuantumRegister(1, 'q')\n",
    "circuit = QuantumCircuit(q)\n",
    "## We need also 2 classical registers\n",
    "c = [ ClassicalRegister(1) for _ in range(2) ]\n",
    "circuit = QuantumCircuit(q)\n",
    "for register in c:\n",
    "    circuit.add_register(register)\n",
    "\n",
    "#initial state of an equal superposition of |0> and |1> states \n",
    "#so that we have all possible inputs of 1 qubit\n",
    "circuit.h(q[0])\n",
    "circuit.measure(q[0], c[0])\n",
    "\n",
    "circuit.append(R,[0])    # R gate acting on q[0]\n",
    "circuit.append(Ph, [0])  # phase gate acting on q[0]\n",
    "circuit.append(R,[0])    # R gate acting on q[0]\n",
    "circuit.append(Ph, [0])  # phase gate acting on q[0]\n",
    "\n",
    "#finish with measurements\n",
    "circuit.measure(q[0], c[1])\n",
    "\n",
    "## Draw the circuit\n",
    "%matplotlib inline\n",
    "circuit.draw(output=\"mpl\")"
   ]
  },
  {
   "cell_type": "code",
   "execution_count": 14,
   "metadata": {},
   "outputs": [
    {
     "data": {
      "image/png": "[encoded data removed]",
      "text/plain": [
       "<Figure size 504x360 with 1 Axes>"
      ]
     },
     "execution_count": 14,
     "metadata": {},
     "output_type": "execute_result"
    }
   ],
   "source": [
    "plot_histogram(get_counts('qasm_simulator'))"
   ]
  },
  {
   "cell_type": "markdown",
   "metadata": {},
   "source": [
    "As expected the input |0> state is changed to |1> and vice versa."
   ]
  },
  {
   "cell_type": "markdown",
   "metadata": {},
   "source": [
    "## $V^{+}$ gate"
   ]
  },
  {
   "cell_type": "markdown",
   "metadata": {},
   "source": [
    "Now, let's define $V^{+}$ gate. We start from the expression for V gate \n",
    "\n",
    "$$V= Ph(\\pi/4)R_z(-\\pi/2)R_y(\\pi/2)R_z(\\pi/2)$$ \n",
    "\n",
    "and apply Hermitian conjugation to it. We obtain\n",
    "\n",
    "$$V^{+}=R_z(-\\pi/2)R_y(-\\pi/2)R_z(\\pi/2)Ph(-\\pi/4).$$ Obviously, $VV^{+}=V^{+}V=I.$ The circuit below shows exactly that identity."
   ]
  },
  {
   "cell_type": "code",
   "execution_count": 15,
   "metadata": {},
   "outputs": [
    {
     "data": {
      "image/png": "[encoded data removed]",
      "text/plain": [
       "<Figure size 556.248x204.68 with 1 Axes>"
      ]
     },
     "execution_count": 15,
     "metadata": {},
     "output_type": "execute_result"
    }
   ],
   "source": [
    "#define Rp gate as an instruction that contains only rotations\n",
    "qc_Rp = QuantumCircuit(1, name='Rp')\n",
    "qc_Rp.rz(pi/2, 0)\n",
    "qc_Rp.ry(-pi/2, 0)\n",
    "qc_Rp.rz(-pi/2, 0)\n",
    "Rp = qc_Rp.to_instruction()\n",
    "\n",
    "#now assemble respective quantum circuit\n",
    "## Define a 1-qubit quantum circuit\n",
    "q = QuantumRegister(1, 'q')\n",
    "circuit = QuantumCircuit(q)\n",
    "## We need also 2 classical registers\n",
    "c = [ ClassicalRegister(1) for _ in range(2) ]\n",
    "circuit = QuantumCircuit(q)\n",
    "for register in c:\n",
    "    circuit.add_register(register)\n",
    "\n",
    "#initial state of an equal superposition of |0> and |1> states \n",
    "#so that we have all possible inputs of 1 qubit\n",
    "circuit.h(q[0])\n",
    "circuit.measure(q[0], c[0])\n",
    "\n",
    "delta = pi/4\n",
    "circuit.append(R,[0])     # R gate acting on q[0]\n",
    "circuit.append(Ph, [0])   # phase gate acting on q[0]\n",
    "delta = -pi/4\n",
    "circuit.append(Rp,[0])    # R gate acting on q[0]\n",
    "circuit.append(Ph, [0])   # phase gate acting on q[0]\n",
    "\n",
    "#finish with measurements\n",
    "circuit.measure(q[0], c[1])\n",
    "\n",
    "## Draw the circuit\n",
    "%matplotlib inline\n",
    "circuit.draw(output=\"mpl\")"
   ]
  },
  {
   "cell_type": "code",
   "execution_count": 16,
   "metadata": {
    "scrolled": true
   },
   "outputs": [
    {
     "data": {
      "image/png": "[encoded data removed]",
      "text/plain": [
       "<Figure size 504x360 with 1 Axes>"
      ]
     },
     "execution_count": 16,
     "metadata": {},
     "output_type": "execute_result"
    }
   ],
   "source": [
    "plot_histogram(get_counts('qasm_simulator'))"
   ]
  },
  {
   "cell_type": "markdown",
   "metadata": {},
   "source": [
    "## __control__ $V^{+}$ gate"
   ]
  },
  {
   "cell_type": "markdown",
   "metadata": {},
   "source": [
    "Let's constuct a circuit with __control__ $V^{+}$ gate. We need to Hermitian conjugate __control__ V gate.\n",
    "So $$W^{+} = R_z(-\\pi/2)R_y(-\\pi/2)R_z(\\pi/2)$$\n",
    "$$A^{+} = R_y(-\\pi/4)R_z(\\pi/2)$$\n",
    "$$B^{+} = R_y(\\pi/4)$$\n",
    "$$C^{+} = R_z(-\\pi/2).$$\n",
    "$$C^{+}B^{+}A^{+} = I$$\n",
    "and $$C^{+}XB^{+}XA^{+} = W^{+}.$$"
   ]
  },
  {
   "cell_type": "code",
   "execution_count": 17,
   "metadata": {},
   "outputs": [
    {
     "data": {
      "image/png": "[encoded data removed]",
      "text/plain": [
       "<Figure size 659.792x264.88 with 1 Axes>"
      ]
     },
     "execution_count": 17,
     "metadata": {},
     "output_type": "execute_result"
    }
   ],
   "source": [
    "#define Ap gate as an instruction\n",
    "qc_Ap = QuantumCircuit(1, name='Ap')\n",
    "qc_Ap.rz(pi/2, 0)\n",
    "qc_Ap.ry(-pi/4, 0)\n",
    "Ap = qc_Ap.to_instruction()\n",
    "\n",
    "#define Bp gate as an instruction\n",
    "qc_Bp = QuantumCircuit(1, name='Bp')\n",
    "qc_Bp.ry(pi/4, 0)\n",
    "Bp = qc_Bp.to_instruction()\n",
    "\n",
    "#define Cp gate as an instruction\n",
    "qc_Cp = QuantumCircuit(1, name='Cp')\n",
    "qc_Cp.rz(-pi/2, 0)\n",
    "Cp = qc_Cp.to_instruction()\n",
    "\n",
    "#now assemble respective quantum circuit\n",
    "## Define a 2-qubit quantum circuit\n",
    "q = QuantumRegister(2, 'q')\n",
    "circuit = QuantumCircuit(q)\n",
    "## We need also 4 classical registers\n",
    "c = [ ClassicalRegister(1) for _ in range(2) ]\n",
    "circuit = QuantumCircuit(q)\n",
    "for register in c:\n",
    "    circuit.add_register(register)\n",
    "\n",
    "#initial state of an equal superposition of |0> and |1> states \n",
    "#so that we have all possible inputs of 2 qubits\n",
    "circuit.h(q[0])\n",
    "circuit.h(q[1])\n",
    "\n",
    "circuit.append(Ap,[1])    # C gate acting on q[1]\n",
    "circuit.cnot(q[0], q[1]) # CNOT between q[0] and q[1]\n",
    "circuit.append(Bp, [1])   # B gate acting on q[1]\n",
    "circuit.cnot(q[0], q[1]) # CNOT between q[0] and q[1]\n",
    "circuit.append(Cp, [1])   # A gate acting on q[1]\n",
    "delta=-pi/4\n",
    "circuit.append(Ph, [0])  # phase gate acting on q[0] (it really does not matter which qubit we pick)\n",
    "\n",
    "#finish with measurements\n",
    "circuit.measure(q[0], c[0])\n",
    "circuit.measure(q[1], c[1])\n",
    "\n",
    "## Draw the circuit\n",
    "%matplotlib inline\n",
    "circuit.draw(output=\"mpl\")"
   ]
  },
  {
   "cell_type": "code",
   "execution_count": 18,
   "metadata": {},
   "outputs": [
    {
     "data": {
      "image/png": "[encoded data removed]",
      "text/plain": [
       "<Figure size 504x360 with 1 Axes>"
      ]
     },
     "execution_count": 18,
     "metadata": {},
     "output_type": "execute_result"
    }
   ],
   "source": [
    "plot_histogram(get_counts('qasm_simulator'))"
   ]
  },
  {
   "cell_type": "markdown",
   "metadata": {},
   "source": [
    "## (__control__ $V$)(__control__ $V^{+}$) = I"
   ]
  },
  {
   "cell_type": "markdown",
   "metadata": {},
   "source": [
    "If we apply together __control__ V and __control__ $V^{+}$ gates we should get identity gate as the circuit below shows."
   ]
  },
  {
   "cell_type": "code",
   "execution_count": 19,
   "metadata": {},
   "outputs": [
    {
     "data": {
      "image/png": "[encoded data removed]",
      "text/plain": [
       "<Figure size 1081.19x385.28 with 1 Axes>"
      ]
     },
     "execution_count": 19,
     "metadata": {},
     "output_type": "execute_result"
    }
   ],
   "source": [
    "#now assemble respective quantum circuit\n",
    "## Define a 2-qubit quantum circuit\n",
    "q = QuantumRegister(2, 'q')\n",
    "circuit = QuantumCircuit(q)\n",
    "## We need also 4 classical registers\n",
    "c = [ ClassicalRegister(1) for _ in range(4) ]\n",
    "circuit = QuantumCircuit(q)\n",
    "for register in c:\n",
    "    circuit.add_register(register)\n",
    "\n",
    "#initial state of an equal superposition of |0> and |1> states \n",
    "#so that we have all possible inputs of 2 qubits\n",
    "circuit.h(q[0])\n",
    "circuit.h(q[1])\n",
    "circuit.measure(q[0], c[0])\n",
    "circuit.measure(q[1], c[1])\n",
    "\n",
    "circuit.append(C,[1])    # C gate acting on q[1]\n",
    "circuit.cnot(q[0], q[1]) # CNOT between q[0] and q[1]\n",
    "circuit.append(B, [1])   # B gate acting on q[1]\n",
    "circuit.cnot(q[0], q[1]) # CNOT between q[0] and q[1]\n",
    "circuit.append(A, [1])   # A gate acting on q[1]\n",
    "delta=pi/4\n",
    "circuit.append(Ph, [0])  # phase gate acting on q[0] (it really does not matter which qubit we pick)\n",
    "\n",
    "circuit.append(Ap,[1])    # C gate acting on q[1]\n",
    "circuit.cnot(q[0], q[1]) # CNOT between q[0] and q[1]\n",
    "circuit.append(Bp, [1])   # B gate acting on q[1]\n",
    "circuit.cnot(q[0], q[1]) # CNOT between q[0] and q[1]\n",
    "circuit.append(Cp, [1])   # A gate acting on q[1]\n",
    "delta=-pi/4\n",
    "circuit.append(Ph, [0])  # phase gate acting on q[0] (it really does not matter which qubit we pick)\n",
    "\n",
    "#finish with measurements\n",
    "circuit.measure(q[0], c[2])\n",
    "circuit.measure(q[1], c[3])\n",
    "\n",
    "## Draw the circuit\n",
    "%matplotlib inline\n",
    "circuit.draw(output=\"mpl\")"
   ]
  },
  {
   "cell_type": "code",
   "execution_count": 20,
   "metadata": {},
   "outputs": [
    {
     "data": {
      "image/png": "[encoded data removed]",
      "text/plain": [
       "<Figure size 504x360 with 1 Axes>"
      ]
     },
     "execution_count": 20,
     "metadata": {},
     "output_type": "execute_result"
    }
   ],
   "source": [
    "plot_histogram(get_counts('qasm_simulator'))"
   ]
  },
  {
   "cell_type": "markdown",
   "metadata": {},
   "source": [
    "As expected qubits states do not change: 00->00, 10->10, 01->01, and 11->11."
   ]
  },
  {
   "cell_type": "markdown",
   "metadata": {},
   "source": [
    "## Toffoli gate\n",
    "Now we can follow Lemma 6.1 from the reference [1] and construct a Toffoli gate."
   ]
  },
  {
   "cell_type": "code",
   "execution_count": 21,
   "metadata": {},
   "outputs": [
    {
     "data": {
      "image/png": "[encoded data removed]",
      "text/plain": [
       "<Figure size 1502.59x565.88 with 1 Axes>"
      ]
     },
     "execution_count": 21,
     "metadata": {},
     "output_type": "execute_result"
    }
   ],
   "source": [
    "#now assemble respective quantum circuit\n",
    "## Define a 3-qubit quantum circuit\n",
    "q = QuantumRegister(3, 'q')\n",
    "circuit = QuantumCircuit(q)\n",
    "## We need also 3 classical registers\n",
    "c = [ ClassicalRegister(1) for _ in range(6) ]\n",
    "circuit = QuantumCircuit(q)\n",
    "for register in c:\n",
    "    circuit.add_register(register)\n",
    "    \n",
    "#initial state of an equal superposition of |0> and |1> states \n",
    "#so that we have all possible inputs of 3 qubits\n",
    "circuit.h(q[0])\n",
    "circuit.h(q[1])\n",
    "circuit.h(q[2])\n",
    "circuit.measure(q[0], c[0])\n",
    "circuit.measure(q[1], c[1])\n",
    "circuit.measure(q[2], c[2])\n",
    "\n",
    "# control V gate between q[1] and q[2]\n",
    "circuit.append(C,[2])    # C gate acting on q[2]\n",
    "circuit.cnot(q[1], q[2]) # CNOT between q[1] and q[2]\n",
    "circuit.append(B, [2])   # B gate acting on q[2]\n",
    "circuit.cnot(q[1], q[2]) # CNOT between q[1] and q[2]\n",
    "circuit.append(A, [2])    # A gate acting on q[2]\n",
    "delta=pi/4\n",
    "circuit.append(Ph, [1])  # phase gate acting on q[1]\n",
    "                   \n",
    "circuit.cnot(q[0], q[1]) # CNOT between q[0] and q[1]\n",
    "\n",
    "# control V+ gate between q[1] and q[2]\n",
    "circuit.append(Ap,[2])    # Ap gate acting on q[2]\n",
    "circuit.cnot(q[1], q[2])  # CNOT between q[1] and q[2]\n",
    "circuit.append(Bp, [2])   # Bp gate acting on q[2]\n",
    "circuit.cnot(q[1], q[2])  # CNOT between q[1] and q[2]\n",
    "circuit.append(Cp, [2])   # Cp gate acting on q[2]\n",
    "delta=-pi/4\n",
    "circuit.append(Ph, [1])  # phase gate acting on q[1]\n",
    "                   \n",
    "circuit.cnot(q[0], q[1]) # CNOT between q[0] and q[1]\n",
    "\n",
    "# control V gate between q[0] and q[2]\n",
    "circuit.append(C,[2])    # C gate acting on q[2]\n",
    "circuit.cnot(q[0], q[2]) # CNOT between q[0] and q[2]\n",
    "circuit.append(B, [2])   # B gate acting on q[2]\n",
    "circuit.cnot(q[0], q[2]) # CNOT between q[0] and q[2]\n",
    "circuit.append(A, [2])    # A gate acting on q[2]\n",
    "delta=pi/4\n",
    "circuit.append(Ph, [0])  # phase gate acting on q[0]\n",
    "\n",
    "#finish with measurements\n",
    "circuit.measure(q[0], c[3])\n",
    "circuit.measure(q[1], c[4])\n",
    "circuit.measure(q[2], c[5])\n",
    "\n",
    "## Draw the circuit\n",
    "%matplotlib inline\n",
    "circuit.draw(output=\"mpl\")"
   ]
  },
  {
   "cell_type": "code",
   "execution_count": 22,
   "metadata": {},
   "outputs": [
    {
     "data": {
      "image/png": "[encoded data removed]",
      "text/plain": [
       "<Figure size 504x360 with 1 Axes>"
      ]
     },
     "execution_count": 22,
     "metadata": {},
     "output_type": "execute_result"
    }
   ],
   "source": [
    "plot_histogram(get_counts('qasm_simulator'))"
   ]
  },
  {
   "cell_type": "markdown",
   "metadata": {},
   "source": [
    "The Toffoli gate fips the q2 qubit state only when both q0 and q1 qubits are in the state |1>. The fourth bar corresponds to the case when the q2 qubit state is flipped from |1> to |0> and the eight bar corresponds to the case when the q2 qubit state is flipped from |0> to |1>.  \n",
    "This is just one of many possible implementations of the Toffoli gate.   \n",
    "For example, below is the implementation from the reference [2].\n",
    "\n",
    "[2] https://arxiv.org/abs/1703.10793"
   ]
  },
  {
   "cell_type": "markdown",
   "metadata": {},
   "source": [
    "## Implementing a Toffoli gate with 10 single-qubit gates and 6 CNOT gates"
   ]
  },
  {
   "cell_type": "code",
   "execution_count": 23,
   "metadata": {},
   "outputs": [
    {
     "data": {
      "image/png": "[encoded data removed]",
      "text/plain": [
       "<Figure size 1261.79x565.88 with 1 Axes>"
      ]
     },
     "execution_count": 23,
     "metadata": {},
     "output_type": "execute_result"
    }
   ],
   "source": [
    "## Define a 3-qubit quantum circuit\n",
    "q = QuantumRegister(3, 'q')\n",
    "circuit = QuantumCircuit(q)\n",
    "## We need also 6 classical registers\n",
    "c = [ ClassicalRegister(1) for _ in range(6) ]\n",
    "circuit = QuantumCircuit(q)\n",
    "for register in c:\n",
    "    circuit.add_register(register)\n",
    "\n",
    "#initial state of an equal superposition of |0> and |1> states\n",
    "circuit.h(q[0]) #Hadammard on q[0]\n",
    "circuit.h(q[1]) #Hadammard on q[1]\n",
    "circuit.h(q[2]) #Hadammard on q[2]\n",
    "\n",
    "#measure q0, q1, and q2 before the Toffoli gate (to display the input values to the Toffoli gate)\n",
    "circuit.measure(q[0], c[0])\n",
    "circuit.measure(q[1], c[1])\n",
    "circuit.measure(q[2], c[2])\n",
    "\n",
    "circuit.h(q[2]) #Hadammard on q[2]\n",
    "circuit.cx(q[1],q[2]) #CNOT between q1 and q2\n",
    "circuit.tdg(q[2]) #Hermitian conjugate T gate on q[2]\n",
    "circuit.cx(q[0],q[2]) #CNOT between q0 and q2\n",
    "circuit.t(q[2]) #T gate on q[2]\n",
    "circuit.cx(q[1],q[2]) #CNOT between q1 and q2\n",
    "circuit.tdg(q[1]) #Hermitian conjugate T gate on q[1]\n",
    "circuit.tdg(q[2]) #Hermitian conjugate T gate on q[2]\n",
    "circuit.cx(q[0],q[2]) #CNOT between q0 and q2\n",
    "circuit.cx(q[0],q[1]) #CNOT between q0 and q1\n",
    "circuit.t(q[0]) #T gate on q[0]\n",
    "circuit.tdg(q[1]) #Hermitian conjugate T gate on q[1]\n",
    "circuit.t(q[2]) #T gate on q[2]\n",
    "circuit.cx(q[0],q[1]) #CNOT between q0 and q1\n",
    "circuit.s(q[1]) #T gate on q[1]\n",
    "circuit.h(q[2]) #Hadammard on q[2]\n",
    "\n",
    "## Finish off with the measurements\n",
    "circuit.measure(q[0], c[3])\n",
    "circuit.measure(q[1], c[4])\n",
    "circuit.measure(q[2], c[5])\n",
    "\n",
    "## Draw the circuit\n",
    "%matplotlib inline\n",
    "circuit.draw(output=\"mpl\")"
   ]
  },
  {
   "cell_type": "code",
   "execution_count": 24,
   "metadata": {},
   "outputs": [
    {
     "data": {
      "image/png": "[encoded data removed]",
      "text/plain": [
       "<Figure size 504x360 with 1 Axes>"
      ]
     },
     "execution_count": 24,
     "metadata": {},
     "output_type": "execute_result"
    }
   ],
   "source": [
    "plot_histogram(get_counts('qasm_simulator'))"
   ]
  },
  {
   "cell_type": "markdown",
   "metadata": {},
   "source": [
    "The circuit below does not change the states of q0 and q1 qubits!"
   ]
  },
  {
   "cell_type": "code",
   "execution_count": 25,
   "metadata": {},
   "outputs": [
    {
     "data": {
      "image/png": "[encoded data removed]",
      "text/plain": [
       "<Figure size 659.792x385.28 with 1 Axes>"
      ]
     },
     "execution_count": 25,
     "metadata": {},
     "output_type": "execute_result"
    }
   ],
   "source": [
    "## Define a 2-qubit quantum circuit\n",
    "q = QuantumRegister(2, 'q')\n",
    "circuit = QuantumCircuit(q)\n",
    "## We need also 4 classical registers\n",
    "c = [ ClassicalRegister(1) for _ in range(4) ]\n",
    "circuit = QuantumCircuit(q)\n",
    "for register in c:\n",
    "    circuit.add_register(register)\n",
    "\n",
    "#initial state of an equal superposition of |0> and |1> states\n",
    "circuit.h(q[0]) #Hadammard on q[0]\n",
    "circuit.h(q[1]) #Hadammard on q[1]\n",
    "\n",
    "#measure q0 and q1 before the swap gate (to display the input values to the swap gate)\n",
    "circuit.measure(q[0], c[0])\n",
    "circuit.measure(q[1], c[1])\n",
    "\n",
    "\n",
    "circuit.cx(q[0],q[1]) #CNOT between q0 and q1 (q0 is a control qubit)\n",
    "circuit.t(q[0])       #T gate on q[0]\n",
    "circuit.tdg(q[1])     #Hermitian conjugate T gate on q[1]\n",
    "circuit.cx(q[0],q[1]) #CNOT between q0 and q1 (q0 is a control qubit)\n",
    "\n",
    "## Finish off with the measurements\n",
    "circuit.measure(q[0], c[2])\n",
    "circuit.measure(q[1], c[3])\n",
    "\n",
    "## Draw the circuit\n",
    "%matplotlib inline\n",
    "circuit.draw(output=\"mpl\")"
   ]
  },
  {
   "cell_type": "code",
   "execution_count": 26,
   "metadata": {},
   "outputs": [
    {
     "data": {
      "image/png": "[encoded data removed]",
      "text/plain": [
       "<Figure size 504x360 with 1 Axes>"
      ]
     },
     "execution_count": 26,
     "metadata": {},
     "output_type": "execute_result"
    }
   ],
   "source": [
    "plot_histogram(get_counts('qasm_simulator'))"
   ]
  },
  {
   "cell_type": "markdown",
   "metadata": {},
   "source": [
    "This information can be used to slightly simplify the above implementation of the Toffoli gate.\n",
    "Respective circuit is displayed below."
   ]
  },
  {
   "cell_type": "code",
   "execution_count": 27,
   "metadata": {},
   "outputs": [
    {
     "data": {
      "image/png": "[encoded data removed]",
      "text/plain": [
       "<Figure size 1201.59x565.88 with 1 Axes>"
      ]
     },
     "execution_count": 27,
     "metadata": {},
     "output_type": "execute_result"
    }
   ],
   "source": [
    "## Define a 3-qubit quantum circuit\n",
    "q = QuantumRegister(3, 'q')\n",
    "circuit = QuantumCircuit(q)\n",
    "## We need also 6 classical registers\n",
    "c = [ ClassicalRegister(1) for _ in range(6) ]\n",
    "circuit = QuantumCircuit(q)\n",
    "for register in c:\n",
    "    circuit.add_register(register)\n",
    "\n",
    "#initial state of an equal superposition of |0> and |1> states\n",
    "circuit.h(q[0]) #Hadammard on q[0]\n",
    "circuit.h(q[1]) #Hadammard on q[1]\n",
    "circuit.h(q[2]) #Hadammard on q[2]\n",
    "\n",
    "#measure q0, q1, and q2 before the Toffoli gate (to display the input values to the Toffoli gate)\n",
    "circuit.measure(q[0], c[0])\n",
    "circuit.measure(q[1], c[1])\n",
    "circuit.measure(q[2], c[2])\n",
    "\n",
    "circuit.h(q[2]) #Hadammard on q[2]\n",
    "circuit.cx(q[1],q[2]) #CNOT between q1 and q2\n",
    "circuit.tdg(q[2]) #Hermitian conjugate T gate on q[2]\n",
    "circuit.cx(q[0],q[2]) #CNOT between q0 and q2\n",
    "circuit.t(q[2]) #T gate on q[2]\n",
    "circuit.cx(q[1],q[2]) #CNOT between q1 and q2\n",
    "circuit.tdg(q[1]) #Hermitian conjugate T gate on q[1]\n",
    "circuit.tdg(q[2]) #Hermitian conjugate T gate on q[2]\n",
    "circuit.cx(q[0],q[2]) #CNOT between q0 and q2\n",
    "#circuit.cx(q[0],q[1]) #CNOT between q0 and q1\n",
    "#circuit.t(q[0]) #T gate on q[0]\n",
    "#circuit.tdg(q[1]) #Hermitian conjugate T gate on q[1]\n",
    "circuit.t(q[2]) #T gate on q[2]\n",
    "#circuit.cx(q[0],q[1]) #CNOT between q0 and q1\n",
    "circuit.s(q[1]) #T gate on q[1]\n",
    "circuit.h(q[2]) #Hadammard on q[2]\n",
    "\n",
    "## Finish off with the measurements\n",
    "circuit.measure(q[0], c[3])\n",
    "circuit.measure(q[1], c[4])\n",
    "circuit.measure(q[2], c[5])\n",
    "\n",
    "## Draw the circuit\n",
    "%matplotlib inline\n",
    "circuit.draw(output=\"mpl\")"
   ]
  },
  {
   "cell_type": "code",
   "execution_count": 28,
   "metadata": {
    "scrolled": true
   },
   "outputs": [
    {
     "data": {
      "image/png": "[encoded data removed]",
      "text/plain": [
       "<Figure size 504x360 with 1 Axes>"
      ]
     },
     "execution_count": 28,
     "metadata": {},
     "output_type": "execute_result"
    }
   ],
   "source": [
    "plot_histogram(get_counts('qasm_simulator'))"
   ]
  },
  {
   "cell_type": "markdown",
   "metadata": {},
   "source": [
    "As we can see the Toffoli gate behavior is demonstrated. The q2 qubit state is flipped only when both q0 and q1 qubits are in the state |1>."
   ]
  }
 ],
 "metadata": {
  "kernelspec": {
   "display_name": "Python 3",
   "language": "python",
   "name": "python3"
  },
  "language_info": {
   "codemirror_mode": {
    "name": "ipython",
    "version": 3
   },
   "file_extension": ".py",
   "mimetype": "text/x-python",
   "name": "python",
   "nbconvert_exporter": "python",
   "pygments_lexer": "ipython3",
   "version": "3.7.6"
  },
  "papermill": {
   "duration": 12.988005,
   "end_time": "2020-01-04T03:14:16.699009",
   "environment_variables": {},
   "exception": null,
   "input_path": "FascinatingQCiruits.ipynb",
   "output_path": "FascinatingQCiruits-background-results.ipynb",
   "parameters": {},
   "start_time": "2020-01-04T03:14:03.711004",
   "version": "1.2.1"
  },
  "widgets": {
   "application/vnd.jupyter.widget-state+json": {
    "state": {
     "07eb75f5290346429acd17347747dd18": {
      "model_module": "@jupyter-widgets/controls",
      "model_module_version": "1.5.0",
      "model_name": "ButtonStyleModel",
      "state": {
       "_model_module": "@jupyter-widgets/controls",
       "_model_module_version": "1.5.0",
       "_model_name": "ButtonStyleModel",
       "_view_count": null,
       "_view_module": "@jupyter-widgets/base",
       "_view_module_version": "1.2.0",
       "_view_name": "StyleView",
       "button_color": null,
       "font_weight": ""
      }
     },
     "142c538b90464354b947939220e84e13": {
      "model_module": "@jupyter-widgets/controls",
      "model_module_version": "1.5.0",
      "model_name": "ButtonModel",
      "state": {
       "_dom_classes": [],
       "_model_module": "@jupyter-widgets/controls",
       "_model_module_version": "1.5.0",
       "_model_name": "ButtonModel",
       "_view_count": null,
       "_view_module": "@jupyter-widgets/controls",
       "_view_module_version": "1.5.0",
       "_view_name": "ButtonView",
       "button_style": "primary",
       "description": "Clear",
       "disabled": false,
       "icon": "",
       "layout": "IPY_MODEL_6137de99489b440d94953416dc1f8cc0",
       "style": "IPY_MODEL_07eb75f5290346429acd17347747dd18",
       "tooltip": ""
      }
     },
     "1e820741165f420aa8efec49c12b8ff8": {
      "model_module": "@jupyter-widgets/controls",
      "model_module_version": "1.5.0",
      "model_name": "HTMLModel",
      "state": {
       "_dom_classes": [],
       "_model_module": "@jupyter-widgets/controls",
       "_model_module_version": "1.5.0",
       "_model_name": "HTMLModel",
       "_view_count": null,
       "_view_module": "@jupyter-widgets/controls",
       "_view_module_version": "1.5.0",
       "_view_name": "HTMLView",
       "description": "",
       "description_tooltip": null,
       "layout": "IPY_MODEL_6d9922a18afa41668b5caa432fbbd8a7",
       "placeholder": "​",
       "style": "IPY_MODEL_634c03c230704a9a935b31ed4a350f8e",
       "value": "<h5>Status</h5>"
      }
     },
     "27a4c2b1f545492f85e9b07eee90fd62": {
      "model_module": "@jupyter-widgets/controls",
      "model_module_version": "1.5.0",
      "model_name": "DescriptionStyleModel",
      "state": {
       "_model_module": "@jupyter-widgets/controls",
       "_model_module_version": "1.5.0",
       "_model_name": "DescriptionStyleModel",
       "_view_count": null,
       "_view_module": "@jupyter-widgets/base",
       "_view_module_version": "1.2.0",
       "_view_name": "StyleView",
       "description_width": ""
      }
     },
     "2c2252a32d90437db172f9c5c65d706f": {
      "model_module": "@jupyter-widgets/base",
      "model_module_version": "1.2.0",
      "model_name": "LayoutModel",
      "state": {
       "_model_module": "@jupyter-widgets/base",
       "_model_module_version": "1.2.0",
       "_model_name": "LayoutModel",
       "_view_count": null,
       "_view_module": "@jupyter-widgets/base",
       "_view_module_version": "1.2.0",
       "_view_name": "LayoutView",
       "align_content": null,
       "align_items": null,
       "align_self": null,
       "border": null,
       "bottom": null,
       "display": null,
       "flex": null,
       "flex_flow": null,
       "grid_area": null,
       "grid_auto_columns": null,
       "grid_auto_flow": null,
       "grid_auto_rows": null,
       "grid_column": null,
       "grid_gap": null,
       "grid_row": null,
       "grid_template_areas": null,
       "grid_template_columns": null,
       "grid_template_rows": null,
       "height": null,
       "justify_content": null,
       "justify_items": null,
       "left": null,
       "margin": null,
       "max_height": null,
       "max_width": null,
       "min_height": null,
       "min_width": null,
       "object_fit": null,
       "object_position": null,
       "order": null,
       "overflow": null,
       "overflow_x": null,
       "overflow_y": null,
       "padding": null,
       "right": null,
       "top": null,
       "visibility": null,
       "width": "70px"
      }
     },
     "3626c8e9e55f4ea88f0acc517ad45620": {
      "model_module": "@jupyter-widgets/base",
      "model_module_version": "1.2.0",
      "model_name": "LayoutModel",
      "state": {
       "_model_module": "@jupyter-widgets/base",
       "_model_module_version": "1.2.0",
       "_model_name": "LayoutModel",
       "_view_count": null,
       "_view_module": "@jupyter-widgets/base",
       "_view_module_version": "1.2.0",
       "_view_name": "LayoutView",
       "align_content": null,
       "align_items": null,
       "align_self": null,
       "border": null,
       "bottom": null,
       "display": null,
       "flex": null,
       "flex_flow": null,
       "grid_area": null,
       "grid_auto_columns": null,
       "grid_auto_flow": null,
       "grid_auto_rows": null,
       "grid_column": null,
       "grid_gap": null,
       "grid_row": null,
       "grid_template_areas": null,
       "grid_template_columns": null,
       "grid_template_rows": null,
       "height": null,
       "justify_content": null,
       "justify_items": null,
       "left": null,
       "margin": "0px 0px 0px 35px",
       "max_height": null,
       "max_width": null,
       "min_height": null,
       "min_width": null,
       "object_fit": null,
       "object_position": null,
       "order": null,
       "overflow": null,
       "overflow_x": null,
       "overflow_y": null,
       "padding": null,
       "right": null,
       "top": null,
       "visibility": null,
       "width": "600px"
      }
     },
     "37fb743407504346b5433ffa2bef57d9": {
      "model_module": "@jupyter-widgets/controls",
      "model_module_version": "1.5.0",
      "model_name": "DescriptionStyleModel",
      "state": {
       "_model_module": "@jupyter-widgets/controls",
       "_model_module_version": "1.5.0",
       "_model_name": "DescriptionStyleModel",
       "_view_count": null,
       "_view_module": "@jupyter-widgets/base",
       "_view_module_version": "1.2.0",
       "_view_name": "StyleView",
       "description_width": ""
      }
     },
     "4cb02cdadeae46d9bffead282b45927c": {
      "model_module": "@jupyter-widgets/base",
      "model_module_version": "1.2.0",
      "model_name": "LayoutModel",
      "state": {
       "_model_module": "@jupyter-widgets/base",
       "_model_module_version": "1.2.0",
       "_model_name": "LayoutModel",
       "_view_count": null,
       "_view_module": "@jupyter-widgets/base",
       "_view_module_version": "1.2.0",
       "_view_name": "LayoutView",
       "align_content": null,
       "align_items": null,
       "align_self": null,
       "border": null,
       "bottom": null,
       "display": null,
       "flex": null,
       "flex_flow": null,
       "grid_area": null,
       "grid_auto_columns": null,
       "grid_auto_flow": null,
       "grid_auto_rows": null,
       "grid_column": null,
       "grid_gap": null,
       "grid_row": null,
       "grid_template_areas": "\n                                       \". . . . right \"\n                                        ",
       "grid_template_columns": "20% 20% 20% 20% 20%",
       "grid_template_rows": null,
       "height": null,
       "justify_content": null,
       "justify_items": null,
       "left": null,
       "margin": null,
       "max_height": null,
       "max_width": null,
       "min_height": null,
       "min_width": null,
       "object_fit": null,
       "object_position": null,
       "order": null,
       "overflow": null,
       "overflow_x": null,
       "overflow_y": null,
       "padding": null,
       "right": null,
       "top": null,
       "visibility": null,
       "width": "100%"
      }
     },
     "4d0f46d2cc67426c9bccf83693bea403": {
      "model_module": "@jupyter-widgets/base",
      "model_module_version": "1.2.0",
      "model_name": "LayoutModel",
      "state": {
       "_model_module": "@jupyter-widgets/base",
       "_model_module_version": "1.2.0",
       "_model_name": "LayoutModel",
       "_view_count": null,
       "_view_module": "@jupyter-widgets/base",
       "_view_module_version": "1.2.0",
       "_view_name": "LayoutView",
       "align_content": null,
       "align_items": null,
       "align_self": null,
       "border": null,
       "bottom": null,
       "display": null,
       "flex": null,
       "flex_flow": null,
       "grid_area": null,
       "grid_auto_columns": null,
       "grid_auto_flow": null,
       "grid_auto_rows": null,
       "grid_column": null,
       "grid_gap": null,
       "grid_row": null,
       "grid_template_areas": null,
       "grid_template_columns": null,
       "grid_template_rows": null,
       "height": null,
       "justify_content": null,
       "justify_items": null,
       "left": null,
       "margin": null,
       "max_height": null,
       "max_width": null,
       "min_height": null,
       "min_width": null,
       "object_fit": null,
       "object_position": null,
       "order": null,
       "overflow": null,
       "overflow_x": null,
       "overflow_y": null,
       "padding": null,
       "right": null,
       "top": null,
       "visibility": null,
       "width": null
      }
     },
     "57cad59134f84f3d9a1f861092cc1133": {
      "model_module": "@jupyter-widgets/controls",
      "model_module_version": "1.5.0",
      "model_name": "HBoxModel",
      "state": {
       "_dom_classes": [],
       "_model_module": "@jupyter-widgets/controls",
       "_model_module_version": "1.5.0",
       "_model_name": "HBoxModel",
       "_view_count": null,
       "_view_module": "@jupyter-widgets/controls",
       "_view_module_version": "1.5.0",
       "_view_name": "HBoxView",
       "box_style": "",
       "children": [
        "IPY_MODEL_a7f7dd72b6984e6c9a2c603bdb916201",
        "IPY_MODEL_5e58332de7a142eeb897ec57975c38db",
        "IPY_MODEL_1e820741165f420aa8efec49c12b8ff8",
        "IPY_MODEL_88386827d2a64fc6be83c56da8ab6491",
        "IPY_MODEL_ca191c7a4950442d95b315a753f7ac0c"
       ],
       "layout": "IPY_MODEL_3626c8e9e55f4ea88f0acc517ad45620"
      }
     },
     "5e58332de7a142eeb897ec57975c38db": {
      "model_module": "@jupyter-widgets/controls",
      "model_module_version": "1.5.0",
      "model_name": "HTMLModel",
      "state": {
       "_dom_classes": [],
       "_model_module": "@jupyter-widgets/controls",
       "_model_module_version": "1.5.0",
       "_model_name": "HTMLModel",
       "_view_count": null,
       "_view_module": "@jupyter-widgets/controls",
       "_view_module_version": "1.5.0",
       "_view_name": "HTMLView",
       "description": "",
       "description_tooltip": null,
       "layout": "IPY_MODEL_dd92708fa297437fbc44781bab2ad7b8",
       "placeholder": "​",
       "style": "IPY_MODEL_ee576d4f1f3d462fbb1d8ca875c1f4d6",
       "value": "<h5>Backend</h5>"
      }
     },
     "6137de99489b440d94953416dc1f8cc0": {
      "model_module": "@jupyter-widgets/base",
      "model_module_version": "1.2.0",
      "model_name": "LayoutModel",
      "state": {
       "_model_module": "@jupyter-widgets/base",
       "_model_module_version": "1.2.0",
       "_model_name": "LayoutModel",
       "_view_count": null,
       "_view_module": "@jupyter-widgets/base",
       "_view_module_version": "1.2.0",
       "_view_name": "LayoutView",
       "align_content": null,
       "align_items": null,
       "align_self": null,
       "border": null,
       "bottom": null,
       "display": null,
       "flex": null,
       "flex_flow": null,
       "grid_area": "right",
       "grid_auto_columns": null,
       "grid_auto_flow": null,
       "grid_auto_rows": null,
       "grid_column": null,
       "grid_gap": null,
       "grid_row": null,
       "grid_template_areas": null,
       "grid_template_columns": null,
       "grid_template_rows": null,
       "height": null,
       "justify_content": null,
       "justify_items": null,
       "left": null,
       "margin": null,
       "max_height": null,
       "max_width": null,
       "min_height": null,
       "min_width": null,
       "object_fit": null,
       "object_position": null,
       "order": null,
       "overflow": null,
       "overflow_x": null,
       "overflow_y": null,
       "padding": "0px 0px 0px 0px",
       "right": null,
       "top": null,
       "visibility": null,
       "width": "70px"
      }
     },
     "634c03c230704a9a935b31ed4a350f8e": {
      "model_module": "@jupyter-widgets/controls",
      "model_module_version": "1.5.0",
      "model_name": "DescriptionStyleModel",
      "state": {
       "_model_module": "@jupyter-widgets/controls",
       "_model_module_version": "1.5.0",
       "_model_name": "DescriptionStyleModel",
       "_view_count": null,
       "_view_module": "@jupyter-widgets/base",
       "_view_module_version": "1.2.0",
       "_view_name": "StyleView",
       "description_width": ""
      }
     },
     "6d9922a18afa41668b5caa432fbbd8a7": {
      "model_module": "@jupyter-widgets/base",
      "model_module_version": "1.2.0",
      "model_name": "LayoutModel",
      "state": {
       "_model_module": "@jupyter-widgets/base",
       "_model_module_version": "1.2.0",
       "_model_name": "LayoutModel",
       "_view_count": null,
       "_view_module": "@jupyter-widgets/base",
       "_view_module_version": "1.2.0",
       "_view_name": "LayoutView",
       "align_content": null,
       "align_items": null,
       "align_self": null,
       "border": null,
       "bottom": null,
       "display": null,
       "flex": null,
       "flex_flow": null,
       "grid_area": null,
       "grid_auto_columns": null,
       "grid_auto_flow": null,
       "grid_auto_rows": null,
       "grid_column": null,
       "grid_gap": null,
       "grid_row": null,
       "grid_template_areas": null,
       "grid_template_columns": null,
       "grid_template_rows": null,
       "height": null,
       "justify_content": null,
       "justify_items": null,
       "left": null,
       "margin": null,
       "max_height": null,
       "max_width": null,
       "min_height": null,
       "min_width": null,
       "object_fit": null,
       "object_position": null,
       "order": null,
       "overflow": null,
       "overflow_x": null,
       "overflow_y": null,
       "padding": null,
       "right": null,
       "top": null,
       "visibility": null,
       "width": "95px"
      }
     },
     "88386827d2a64fc6be83c56da8ab6491": {
      "model_module": "@jupyter-widgets/controls",
      "model_module_version": "1.5.0",
      "model_name": "HTMLModel",
      "state": {
       "_dom_classes": [],
       "_model_module": "@jupyter-widgets/controls",
       "_model_module_version": "1.5.0",
       "_model_name": "HTMLModel",
       "_view_count": null,
       "_view_module": "@jupyter-widgets/controls",
       "_view_module_version": "1.5.0",
       "_view_name": "HTMLView",
       "description": "",
       "description_tooltip": null,
       "layout": "IPY_MODEL_2c2252a32d90437db172f9c5c65d706f",
       "placeholder": "​",
       "style": "IPY_MODEL_37fb743407504346b5433ffa2bef57d9",
       "value": "<h5>Queue</h5>"
      }
     },
     "9c58234cab4e414f892ebfb578f755f1": {
      "model_module": "@jupyter-widgets/base",
      "model_module_version": "1.2.0",
      "model_name": "LayoutModel",
      "state": {
       "_model_module": "@jupyter-widgets/base",
       "_model_module_version": "1.2.0",
       "_model_name": "LayoutModel",
       "_view_count": null,
       "_view_module": "@jupyter-widgets/base",
       "_view_module_version": "1.2.0",
       "_view_name": "LayoutView",
       "align_content": null,
       "align_items": null,
       "align_self": null,
       "border": null,
       "bottom": null,
       "display": null,
       "flex": null,
       "flex_flow": null,
       "grid_area": null,
       "grid_auto_columns": null,
       "grid_auto_flow": null,
       "grid_auto_rows": null,
       "grid_column": null,
       "grid_gap": null,
       "grid_row": null,
       "grid_template_areas": null,
       "grid_template_columns": null,
       "grid_template_rows": null,
       "height": null,
       "justify_content": null,
       "justify_items": null,
       "left": null,
       "margin": null,
       "max_height": null,
       "max_width": null,
       "min_height": null,
       "min_width": null,
       "object_fit": null,
       "object_position": null,
       "order": null,
       "overflow": null,
       "overflow_x": null,
       "overflow_y": null,
       "padding": null,
       "right": null,
       "top": null,
       "visibility": null,
       "width": "190px"
      }
     },
     "a7f7dd72b6984e6c9a2c603bdb916201": {
      "model_module": "@jupyter-widgets/controls",
      "model_module_version": "1.5.0",
      "model_name": "HTMLModel",
      "state": {
       "_dom_classes": [],
       "_model_module": "@jupyter-widgets/controls",
       "_model_module_version": "1.5.0",
       "_model_name": "HTMLModel",
       "_view_count": null,
       "_view_module": "@jupyter-widgets/controls",
       "_view_module_version": "1.5.0",
       "_view_name": "HTMLView",
       "description": "",
       "description_tooltip": null,
       "layout": "IPY_MODEL_9c58234cab4e414f892ebfb578f755f1",
       "placeholder": "​",
       "style": "IPY_MODEL_c4ec3a924bf04d808615a65667729864",
       "value": "<h5>Job ID</h5>"
      }
     },
     "b81e958162004aadbaf20681528df1b9": {
      "model_module": "@jupyter-widgets/controls",
      "model_module_version": "1.5.0",
      "model_name": "GridBoxModel",
      "state": {
       "_dom_classes": [],
       "_model_module": "@jupyter-widgets/controls",
       "_model_module_version": "1.5.0",
       "_model_name": "GridBoxModel",
       "_view_count": null,
       "_view_module": "@jupyter-widgets/controls",
       "_view_module_version": "1.5.0",
       "_view_name": "GridBoxView",
       "box_style": "",
       "children": [
        "IPY_MODEL_142c538b90464354b947939220e84e13"
       ],
       "layout": "IPY_MODEL_4cb02cdadeae46d9bffead282b45927c"
      }
     },
     "c4ec3a924bf04d808615a65667729864": {
      "model_module": "@jupyter-widgets/controls",
      "model_module_version": "1.5.0",
      "model_name": "DescriptionStyleModel",
      "state": {
       "_model_module": "@jupyter-widgets/controls",
       "_model_module_version": "1.5.0",
       "_model_name": "DescriptionStyleModel",
       "_view_count": null,
       "_view_module": "@jupyter-widgets/base",
       "_view_module_version": "1.2.0",
       "_view_name": "StyleView",
       "description_width": ""
      }
     },
     "ca191c7a4950442d95b315a753f7ac0c": {
      "model_module": "@jupyter-widgets/controls",
      "model_module_version": "1.5.0",
      "model_name": "HTMLModel",
      "state": {
       "_dom_classes": [],
       "_model_module": "@jupyter-widgets/controls",
       "_model_module_version": "1.5.0",
       "_model_name": "HTMLModel",
       "_view_count": null,
       "_view_module": "@jupyter-widgets/controls",
       "_view_module_version": "1.5.0",
       "_view_name": "HTMLView",
       "description": "",
       "description_tooltip": null,
       "layout": "IPY_MODEL_4d0f46d2cc67426c9bccf83693bea403",
       "placeholder": "​",
       "style": "IPY_MODEL_27a4c2b1f545492f85e9b07eee90fd62",
       "value": "<h5>Message</h5>"
      }
     },
     "dd92708fa297437fbc44781bab2ad7b8": {
      "model_module": "@jupyter-widgets/base",
      "model_module_version": "1.2.0",
      "model_name": "LayoutModel",
      "state": {
       "_model_module": "@jupyter-widgets/base",
       "_model_module_version": "1.2.0",
       "_model_name": "LayoutModel",
       "_view_count": null,
       "_view_module": "@jupyter-widgets/base",
       "_view_module_version": "1.2.0",
       "_view_name": "LayoutView",
       "align_content": null,
       "align_items": null,
       "align_self": null,
       "border": null,
       "bottom": null,
       "display": null,
       "flex": null,
       "flex_flow": null,
       "grid_area": null,
       "grid_auto_columns": null,
       "grid_auto_flow": null,
       "grid_auto_rows": null,
       "grid_column": null,
       "grid_gap": null,
       "grid_row": null,
       "grid_template_areas": null,
       "grid_template_columns": null,
       "grid_template_rows": null,
       "height": null,
       "justify_content": null,
       "justify_items": null,
       "left": null,
       "margin": null,
       "max_height": null,
       "max_width": null,
       "min_height": null,
       "min_width": null,
       "object_fit": null,
       "object_position": null,
       "order": null,
       "overflow": null,
       "overflow_x": null,
       "overflow_y": null,
       "padding": null,
       "right": null,
       "top": null,
       "visibility": null,
       "width": "145px"
      }
     },
     "ee576d4f1f3d462fbb1d8ca875c1f4d6": {
      "model_module": "@jupyter-widgets/controls",
      "model_module_version": "1.5.0",
      "model_name": "DescriptionStyleModel",
      "state": {
       "_model_module": "@jupyter-widgets/controls",
       "_model_module_version": "1.5.0",
       "_model_name": "DescriptionStyleModel",
       "_view_count": null,
       "_view_module": "@jupyter-widgets/base",
       "_view_module_version": "1.2.0",
       "_view_name": "StyleView",
       "description_width": ""
      }
     }
    },
    "version_major": 2,
    "version_minor": 0
   }
  }
 },
 "nbformat": 4,
 "nbformat_minor": 2
}
